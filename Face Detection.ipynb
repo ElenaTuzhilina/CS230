{
 "cells": [
  {
   "cell_type": "code",
   "execution_count": 1,
   "metadata": {},
   "outputs": [],
   "source": [
    "import tensorflow as tf\n",
    "import cv2\n",
    "from mtcnn.mtcnn import MTCNN\n",
    "import glob"
   ]
  },
  {
   "cell_type": "code",
   "execution_count": 5,
   "metadata": {},
   "outputs": [
    {
     "name": "stdout",
     "output_type": "stream",
     "text": [
      "[{'box': [1042, 612, 371, 493], 'confidence': 0.9821605682373047, 'keypoints': {'left_eye': (1172, 790), 'right_eye': (1339, 812), 'nose': (1263, 901), 'mouth_left': (1171, 977), 'mouth_right': (1295, 993)}}, {'box': [361, 2083, 38, 42], 'confidence': 0.7871477603912354, 'keypoints': {'left_eye': (370, 2106), 'right_eye': (382, 2100), 'nose': (375, 2112), 'mouth_left': (377, 2120), 'mouth_right': (387, 2115)}}, {'box': [1987, 862, 21, 22], 'confidence': 0.7804179787635803, 'keypoints': {'left_eye': (1997, 869), 'right_eye': (2004, 869), 'nose': (2002, 876), 'mouth_left': (1996, 879), 'mouth_right': (2002, 879)}}, {'box': [2157, 1589, 30, 37], 'confidence': 0.7524028420448303, 'keypoints': {'left_eye': (2163, 1602), 'right_eye': (2172, 1600), 'nose': (2167, 1607), 'mouth_left': (2166, 1615), 'mouth_right': (2173, 1613)}}, {'box': [135, 1384, 28, 33], 'confidence': 0.7417486906051636, 'keypoints': {'left_eye': (139, 1394), 'right_eye': (147, 1393), 'nose': (138, 1403), 'mouth_left': (142, 1410), 'mouth_right': (148, 1409)}}]\n",
      "[{'box': [192, 188, 93, 121], 'confidence': 0.9992227554321289, 'keypoints': {'left_eye': (218, 234), 'right_eye': (264, 239), 'nose': (237, 265), 'mouth_left': (217, 277), 'mouth_right': (256, 281)}}]\n",
      "[{'box': [237, 171, 202, 237], 'confidence': 0.9951385259628296, 'keypoints': {'left_eye': (273, 276), 'right_eye': (348, 248), 'nose': (304, 312), 'mouth_left': (308, 364), 'mouth_right': (366, 340)}}]\n",
      "[{'box': [1047, 848, 690, 837], 'confidence': 0.9999998807907104, 'keypoints': {'left_eye': (1197, 1225), 'right_eye': (1482, 1164), 'nose': (1333, 1363), 'mouth_left': (1284, 1542), 'mouth_right': (1494, 1486)}}, {'box': [1956, 2647, 35, 57], 'confidence': 0.7206616401672363, 'keypoints': {'left_eye': (1975, 2671), 'right_eye': (1988, 2667), 'nose': (1988, 2682), 'mouth_left': (1979, 2693), 'mouth_right': (1989, 2690)}}]\n"
     ]
    }
   ],
   "source": [
    "for i in [1,100]:\n",
    "    files = 'Data\\\\s_'+str(i)+'.jpg'\n",
    "    filec = 'Data\\\\c_'+str(i)+'.jpg'\n",
    "    imgs = cv2.cvtColor(cv2.imread(files), cv2.COLOR_BGR2RGB)\n",
    "    imgc = cv2.cvtColor(cv2.imread(filec), cv2.COLOR_BGR2RGB)\n",
    "    detector = MTCNN()\n",
    "    fs = open('Data\\\\s_'+str(i)+'.txt',\"w\")\n",
    "    boxes = detector.detect_faces(imgs)\n",
    "    print(boxes)\n",
    "    if(len(boxes)!=0): fs.write(str(boxes))\n",
    "    fs.close()\n",
    "    fc = open('Data\\\\c_'+str(i)+'.txt',\"w\")\n",
    "    boxes = detector.detect_faces(imgc)\n",
    "    print(boxes)\n",
    "    if(len(boxes)!=0): fc.write(str(boxes))\n",
    "    fc.close()"
   ]
  }
 ],
 "metadata": {
  "kernelspec": {
   "display_name": "Python 3",
   "language": "python",
   "name": "python3"
  },
  "language_info": {
   "codemirror_mode": {
    "name": "ipython",
    "version": 3
   },
   "file_extension": ".py",
   "mimetype": "text/x-python",
   "name": "python",
   "nbconvert_exporter": "python",
   "pygments_lexer": "ipython3",
   "version": "3.7.3"
  }
 },
 "nbformat": 4,
 "nbformat_minor": 2
}
